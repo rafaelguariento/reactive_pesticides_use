{
 "cells":[
  {
   "cell_type":"markdown",
   "source":[
    "# Code for reproducing the results in:\n",
    "## Exploiting competitive interactions in pest control: The principle of pest containment\n",
    "\n",
    "by Guariento et al."
   ],
   "attachments":{
    
   },
   "metadata":{
    "datalore":{
     "node_id":"O4e33N0Ex81SWtbsIn8e5T",
     "type":"MD",
     "hide_input_from_viewers":false,
     "hide_output_from_viewers":false
    }
   }
  },
  {
   "cell_type":"code",
   "source":[
    "import pandas as pd\n",
    "import numpy as np\n",
    "import scipy\n",
    "import matplotlib.pyplot as plt\n",
    "import seaborn as sns\n",
    "import sys\n",
    "import os\n",
    "from tqdm import tqdm\n",
    "import multiprocessing as mp\n",
    "import re\n",
    "import pickle\n",
    "from itertools import product"
   ],
   "execution_count":1,
   "outputs":[
    
   ],
   "metadata":{
    "datalore":{
     "node_id":"0e7vOPdPjMQdWcBOFMA1gP",
     "type":"CODE",
     "hide_input_from_viewers":false,
     "hide_output_from_viewers":false
    }
   }
  },
  {
   "cell_type":"code",
   "source":[
    "# Format plots\n",
    "sns.set(style=\"white\",\n",
    "        font_scale=1.5,\n",
    "                rc={'figure.figsize':(12,6)})\n",
    "\n",
    "# Make directory for figures\n",
    "if not os.path.isdir(\".\/figures\/\"):\n",
    "    os.mkdir(\".\/figures\/\")\n"
   ],
   "execution_count":2,
   "outputs":[
    
   ],
   "metadata":{
    "datalore":{
     "node_id":"yv5M8YSSnjWXEzCefshj7A",
     "type":"CODE",
     "hide_input_from_viewers":false,
     "hide_output_from_viewers":false
    }
   }
  },
  {
   "cell_type":"code",
   "source":[
    "# Define the parameters for simulation\n",
    "paramDic = {\"rS\":.027, \"rR\":.027, \"cRS\":1., \"cSR\":1.,\"dD\":1.0, \n",
    "            \"k\":1., \"D\":0, \"theta\":1, 'DMax':1.2}\n",
    "paramDic['dR'] = 0.2*paramDic['rR']\n",
    "paramDic['dS'] = 0.2*paramDic['rS']\n",
    "nTimePts = 100\n",
    "dt = 1.\n",
    "intervalLength = 1\n",
    "\n",
    "def GenerateParameters(initialSize, rFrac, cost, turnover, paramDic):\n",
    "\n",
    "    # Generate ICS\n",
    "    initialStateVec = [initialSize * (1 - rFrac), initialSize * rFrac, 0, paramDic['DMax']]\n",
    "    initialStateVec[2] = paramDic['theta'] * (initialStateVec[0] + initialStateVec[1])\n",
    "\n",
    "    # Generate params   addapted for increasing competition coefficient\n",
    "    paramDic = paramDic.copy()\n",
    "    paramDic['cSR'] = (1+cost)*paramDic['cSR']\n",
    "    paramDic['dR'] = turnover*paramDic['rR']\n",
    "    paramDic['dS'] = turnover*paramDic['rS']\n",
    "    return initialStateVec,paramDic\n"
   ],
   "execution_count":3,
   "outputs":[
    
   ],
   "metadata":{
    "datalore":{
     "node_id":"ldDk9eFN2fClbHQWADrs0y",
     "type":"CODE",
     "hide_input_from_viewers":false,
     "hide_output_from_viewers":false
    }
   }
  },
  {
   "cell_type":"code",
   "source":[
    "\n",
    "# --------------------------- Model -----------------------------------------------------\n",
    "\n",
    "def lotka_volterra(t, uVec, paramDic):\n",
    "    s, r, v, c = uVec\n",
    "    dudtVec = np.zeros_like(uVec) \n",
    "    dudtVec[0] = paramDic['rS']*(1-paramDic['dD']*c)*(1 - (s + paramDic['cRS'] * r)\/paramDic['k']) * s - paramDic['dS']*s\n",
    "    dudtVec[1] = paramDic['rR']*(1 - (r + paramDic['cSR'] * s)\/paramDic['k'])*r - paramDic['dR']*r\n",
    "    dudtVec[2] = paramDic['theta']*(dudtVec[0] + dudtVec[1])\n",
    "    dudtVec[3] = 0\n",
    "    return (dudtVec)"
   ],
   "execution_count":4,
   "outputs":[
    
   ],
   "metadata":{
    "datalore":{
     "node_id":"NdmRWOMwRVDNkUlifcWmTv",
     "type":"CODE",
     "hide_input_from_viewers":false,
     "hide_output_from_viewers":false
    }
   }
  },
  {
   "cell_type":"code",
   "source":[
    " #--------------------------- Simulation -----------------------------------------------------\n",
    "def Simulate_pestice_max(initialStateVec,paramDic,modelFun,t_end=None,t_span=None,t_eval=None,nTimePts=100,**kwargs):\n",
    "    t_span = t_span if t_span is not None else (0, t_end)\n",
    "    t_eval = t_eval if t_eval is not None else np.linspace(t_span[0],t_span[1],nTimePts)\n",
    "    solObj = scipy.integrate.solve_ivp(lambda t, uVec: modelFun(t,uVec,paramDic), y0=initialStateVec,\n",
    "                                       t_span=t_span,t_eval=t_eval,**kwargs)\n",
    "    return pd.DataFrame({\"Time\": solObj.t, \"S\": solObj.y[0, :], \"R\": solObj.y[1, :],\n",
    "                              \"V\":solObj.y[2,:], \"D\": solObj.y[3, :]})\n",
    "\n",
    "def Simulate_non_int_fixed_target(initialStateVec,paramDic,modelFun,\n",
    "                               rpuThreshold=0.5,intervalLength=3,refSize=None,t_end=None,t_span=None,t_eval=None,nTimePts=100,**kwargs):\n",
    "    t_span = t_span if t_span is not None else (0, t_end)\n",
    "    t_eval = t_eval if t_eval is not None else np.linspace(0,t_end,nTimePts)\n",
    "    resultsDFList = []\n",
    "    currInterval = [t_span[0],t_span[0]+intervalLength]\n",
    "    refSize = initialStateVec[2] if refSize is None else refSize\n",
    "    dose = initialStateVec[-1]\n",
    "    currCycleId = 0\n",
    "    while currInterval[1] <= t_end: \n",
    "        # Simulate\n",
    "        resultsDf = Simulate_pestice_max(initialStateVec,modelFun=modelFun,\n",
    "                                         paramDic=paramDic,\n",
    "                                         t_span=(currInterval[0], currInterval[1]),\n",
    "                                         t_eval=np.linspace(currInterval[0], currInterval[1],1000))\n",
    "        resultsDf['CycleId'] = currCycleId\n",
    "        resultsDFList.append(resultsDf)\n",
    "\n",
    "        # Update dose\n",
    "        if resultsDf.V.iat[-1] > refSize:\n",
    "            currCycleId += (dose==0)\n",
    "            dose = paramDic['DMax']\n",
    "        elif resultsDf.V.iat[-1] < (1-rpuThreshold)*refSize:\n",
    "            dose = 0\n",
    "        else:\n",
    "            dose = (dose > 0)*paramDic['DMax']\n",
    "        initialStateVec = [resultsDf.S.iat[-1], resultsDf.R.iat[-1], resultsDf.V.iat[-1], dose]\n",
    "\n",
    "        # Update interval\n",
    "        currInterval = [x+intervalLength for x in currInterval]\n",
    "    resultsDf = pd.concat(resultsDFList)\n",
    "    # Interpolate to the desired time grid\n",
    "    trimmedResultsDic = {'Time':t_eval}\n",
    "    for variable in ['S','R','V','D','CycleId']:\n",
    "        f =  scipy.interpolate.interp1d(resultsDf.Time,resultsDf[variable],fill_value=\"extrapolate\")\n",
    "        trimmedResultsDic = {**trimmedResultsDic,variable:f(t_eval)}\n",
    "    return pd.DataFrame(data=trimmedResultsDic)"
   ],
   "execution_count":5,
   "outputs":[
    
   ],
   "metadata":{
    "datalore":{
     "node_id":"XM49yj3WKQCg695mzKorSx",
     "type":"CODE",
     "hide_input_from_viewers":false,
     "hide_output_from_viewers":false
    }
   }
  },
  {
   "cell_type":"code",
   "source":[
    "def ProfileProtocolStrategies(modelFun,paramDic,rpuThresholdList=[0.3, 0.5],intervalLength=0.3,dt=1.,\n",
    "                               initialSizeList=np.linspace(0.25,0.75,5),\n",
    "                               rFracList=[0.1,0.01,0.001],\n",
    "                               PopSizeWhenProgressed=1.2,treatThreshold=0.1,enableProgressBar=True):\n",
    "    tmpDicList = []\n",
    "    for initialPopSize,rFrac in tqdm([(x,y) for x in initialSizeList for y in rFracList],disable=enableProgressBar==False):\n",
    "        initialStateVec,_ = GenerateParameters(initialSize=initialPopSize, rFrac=rFrac, cost=0, turnover=0, paramDic=paramDic)\n",
    "        maxTolerableBurden = initialPopSize*PopSizeWhenProgressed\n",
    "        PopEILTreat = treatThreshold*initialPopSize\n",
    "\n",
    "        # 0. Check that pest can progress\n",
    "        rMax = np.inf\n",
    "        if modelFun.__name__=='lotka_volterra':\n",
    "            rMax = (1-paramDic['dR']\/paramDic['rR'])*paramDic['k']\n",
    "        if rMax < maxTolerableBurden:\n",
    "            for strategy in [\"MTD\"]+[str(thresh) for thresh in rpuThresholdList]:\n",
    "                tmpDicList.append({\"TreatmentBranch\": strategy,\n",
    "                                   \"RFrac\": rFrac, \"InitialPopSize\": initialPopSize,\n",
    "                                   \"Treat\": False, \"IndefiniteControl\":True, \"TimeToFailure\": np.nan, \"RelTimeGained\": np.nan,\n",
    "                                   \"NCycles\": np.nan})\n",
    "            continue\n",
    "\n",
    "        # 1. Simulate MTD until cure or failure\n",
    "        r0 = max(initialStateVec[1],0.001) # Make sure I assume at least some r0 for this calculation, otherwise it blows up\n",
    "        rR = paramDic.get('rR',paramDic.get('p',0.03))\n",
    "        t_end = np.log((1-r0)\/(r0*(1\/maxTolerableBurden-1)))\/rR\n",
    "        finalPopSize = 0\n",
    "        treat = False\n",
    "        currStateVec = initialStateVec\n",
    "        currTime = 0\n",
    "        \n",
    "        while finalPopSize<maxTolerableBurden-1e-6 and not treat: \n",
    "\n",
    "            resultsDf = Simulate_pestice_max(initialStateVec=currStateVec,\n",
    "                                             modelFun=modelFun,paramDic=paramDic,\n",
    "                                             t_span=(currTime,t_end))\n",
    "            finalPopSize = resultsDf.V.iloc[-1]\n",
    "            treat = np.any(resultsDf.V<PopEILTreat)\n",
    "            currStateVec = [resultsDf.S.iloc[-1], resultsDf.R.iloc[-1], resultsDf.V.iloc[-1], 1]\n",
    "            currTime = t_end\n",
    "            t_end *= 1.1\n",
    "\n",
    "        \n",
    "        if treat:\n",
    "            tmpDicList.append({\"TreatmentBranch\":\"MTD\",\n",
    "                               \"RFrac\": rFrac, \"InitialPopSize\":initialPopSize,\n",
    "                               \"Cured\":True, \"IndefiniteControl\":False, \"TimeToFailure\":np.nan,\"RelTimeGained\":np.nan,\n",
    "                               \"NCycles\":np.nan})\n",
    "            continue\n",
    "\n",
    "     \n",
    "        resultsDf = Simulate_non_int_fixed_target(initialStateVec,modelFun=modelFun,\n",
    "                                               paramDic=paramDic,\n",
    "                                               rpuThreshold=1.,\n",
    "                                               refSize=initialPopSize,\n",
    "                                               intervalLength=intervalLength,\n",
    "                                               t_eval=np.arange(0,t_end+dt,dt),\n",
    "                                               t_end=t_end)\n",
    "        timeToFailure_MTD = resultsDf.Time[resultsDf.V>maxTolerableBurden-1e-6].min() # np.abs to deal with cases when we are so close to the threshold that numerical error can cause problems\n",
    "        tmpDicList.append({\"TreatmentBranch\":\"MTD\", \"RFrac\": rFrac, \"InitialPopSize\":initialPopSize,\n",
    "                            \"Treat\":False, \"IndefiniteControl\":False, \"TimeToFailure\":timeToFailure_MTD,\"RelTimeGained\":np.nan,\n",
    "                           \"NCycles\":np.nan})\n",
    "\n",
    "        # 2. Simulate RPU\n",
    "        for rpuThreshold in rpuThresholdList:\n",
    "            t_end = 2*timeToFailure_MTD\n",
    "            timeToFailure = np.nan\n",
    "            while np.isnan(timeToFailure):\n",
    "                resultsDf = Simulate_non_int_fixed_target(initialStateVec,modelFun=modelFun,\n",
    "                                                       paramDic=paramDic,\n",
    "                                                       rpuThreshold=rpuThreshold,\n",
    "                                                       intervalLength=intervalLength,\n",
    "                                                       t_eval=np.arange(0,t_end+dt,dt),\n",
    "                                                       t_end=t_end)\n",
    "                timeToFailure = resultsDf.Time[resultsDf.V>maxTolerableBurden-1e-6].min()\n",
    "                t_end *= 1.1\n",
    "            # Assess Performance\n",
    "            relTimeGained = (timeToFailure-timeToFailure_MTD)\/timeToFailure_MTD*100\n",
    "            tmpDicList.append({\"TreatmentBranch\":str(rpuThreshold),\n",
    "                               \"RFrac\": rFrac, \"InitialPopSize\":initialPopSize,\n",
    "                               \"Treat\":False, \"IndefiniteControl\":False, \"TimeToFailure\":timeToFailure,\n",
    "                               \"AbsTimeGained\":timeToFailure-timeToFailure_MTD,\"RelTimeGained\":relTimeGained,\n",
    "                               \"NCycles\":resultsDf.CycleId.max()})\n",
    "    return pd.DataFrame(tmpDicList)"
   ],
   "execution_count":6,
   "outputs":[
    
   ],
   "metadata":{
    "datalore":{
     "node_id":"iw07Qt7mpYIYT3mJW8MzQo",
     "type":"CODE",
     "hide_input_from_viewers":false,
     "hide_output_from_viewers":false
    }
   }
  },
  {
   "cell_type":"code",
   "source":[
    "\n",
    "# Parameterise script\n",
    "intervalLength = 1.\n",
    "rpuThreshold = 0.5\n",
    "turnoverList = [0.2] #np.linspace(0.15, 0.2,2)\n",
    "costList = np.linspace(0.05,0.5,10)\n",
    "nProcesses = 2\n",
    "# ------------------------ Functions ------------------------\n",
    "def ProfileParamSet(paramSet):\n",
    "    turnover,cost = paramSet\n",
    "    paramDic = {\"rS\": .027, \"rR\": .027, \"cRS\": 1., \"cSR\": 1., \"dD\": 1.0,\n",
    "                \"k\": 1., \"D\": 0, \"theta\": 1, 'DMax': 1.2}\n",
    "    # Set up the parameters\n",
    "    _, currParamDic = GenerateParameters(initialSize=0, rFrac=0,\n",
    "                                         cost=cost, turnover=turnover,\n",
    "                                         paramDic=paramDic)\n",
    "    print(cost,turnover)\n",
    "    # Perform the comparison\n",
    "    txComparisonDf = ProfileProtocolStrategies(modelFun=lotka_volterra,paramDic=currParamDic,\n",
    "                                                enableProgressBar=False,\n",
    "                                                rpuThresholdList=[rpuThreshold],intervalLength=intervalLength,\n",
    "                                                initialSizeList=[0.4],\n",
    "                                                rFracList=np.linspace(0.001,0.01,10),\n",
    "                                                PopSizeWhenProgressed=1.2,treatThreshold=1e-7)\n",
    "\n",
    "    # Save results\n",
    "    txComparisonDf['Turnover'] = turnover\n",
    "    txComparisonDf['Cost'] = cost\n",
    "    return txComparisonDf\n",
    "\n",
    "# ------------------------ Main ------------------------\n",
    "pool = mp.Pool(processes=nProcesses,maxtasksperchild=1)\n",
    "jobList = list(product(turnoverList, costList))\n",
    "tmpDicList = list(tqdm(pool.imap(ProfileParamSet,jobList),total=len(jobList)))\n",
    "resultsDf = pd.concat(tmpDicList,sort=True)\n",
    "resultsDf.to_csv(\"data.csv\")\n"
   ],
   "execution_count":7,
   "outputs":[
    {
     "name":"stdout",
     "text":[
      "0.05 0.2\n",
      "0.1 0.2\n",
      "0.15000000000000002 0.2\n",
      "0.2 0.2\n",
      "0.25 0.2\n",
      "0.3 0.2\n",
      "0.35000000000000003 0.2\n",
      "0.4 0.2\n",
      "0.45 0.2\n",
      "0.5 0.2\n"
     ],
     "output_type":"stream"
    },
    {
     "name":"stderr",
     "text":[
      "\r  0%|          | 0\/10 [00:00<?, ?it\/s]\r 10%|█         | 1\/10 [00:41<06:11, 41.23s\/it]\r 20%|██        | 2\/10 [00:41<02:16, 17.10s\/it]\r 30%|███       | 3\/10 [01:09<02:33, 21.93s\/it]\r 40%|████      | 4\/10 [01:09<01:20, 13.42s\/it]\r 50%|█████     | 5\/10 [01:37<01:32, 18.54s\/it]\r 60%|██████    | 6\/10 [01:37<00:49, 12.50s\/it]\r 70%|███████   | 7\/10 [02:06<00:53, 17.70s\/it]\r 80%|████████  | 8\/10 [02:06<00:24, 12.23s\/it]\r 90%|█████████ | 9\/10 [02:35<00:17, 17.47s\/it]\r100%|██████████| 10\/10 [02:36<00:00, 12.32s\/it]\r100%|██████████| 10\/10 [02:36<00:00, 15.66s\/it]\n"
     ],
     "output_type":"stream"
    }
   ],
   "metadata":{
    "datalore":{
     "node_id":"lvIJXQF9fr0Rp0Hq74EUwA",
     "type":"CODE",
     "hide_input_from_viewers":false,
     "hide_output_from_viewers":false
    }
   }
  },
  {
   "cell_type":"code",
   "source":[
    "ComparisonDf = pd.read_csv(\"data.csv\",index_col=0)"
   ],
   "execution_count":8,
   "outputs":[
    
   ],
   "metadata":{
    "datalore":{
     "node_id":"ZL085bYgx1qw0AjKcifv63",
     "type":"CODE",
     "hide_input_from_viewers":false,
     "hide_output_from_viewers":false
    }
   }
  },
  {
   "cell_type":"code",
   "source":[
    "# Reshape into a matrix\n",
    "tmpDf = ComparisonDf.loc[ComparisonDf.TreatmentBranch==\"0.5\",[\"Cost\",\"RFrac\",\"AbsTimeGained\"]].reset_index(drop=True)\n",
    "tmpDf['Cost'] *= 1\n",
    "tmpDf['RFrac'] *= 1\n",
    "tmpDf['AbsTimeGained'] = np.log10(tmpDf['AbsTimeGained'])\n",
    "#tmpDf.sortlevel([\"Cost\"], ascending=[False], sort_remaining=False)\n",
    "timeToFailureMat = tmpDf.pivot(\"Cost\",\"RFrac\",\"AbsTimeGained\")\n",
    "timeToFailureMat.sort_index(level=\"Cost\",ascending=False,inplace=True)\n",
    "\n",
    "\n",
    "# Plot\n",
    "fig, ax = plt.subplots(1,1,figsize=(12,10))\n",
    "\n",
    "g = sns.heatmap(data=timeToFailureMat,cmap='magma',square=True,cbar=True,ax=ax)\n",
    "plt.savefig(\"myimg.svg\")"
   ],
   "execution_count":9,
   "outputs":[
    {
     "data":{
      "image\/png":"[encoded data removed]"
     },
     "metadata":{
      "image\/png":{
       
      }
     },
     "output_type":"display_data"
    }
   ],
   "metadata":{
    "datalore":{
     "node_id":"uKpFG23U3M1z83W6xlEE3y",
     "type":"CODE",
     "hide_input_from_viewers":false,
     "hide_output_from_viewers":false
    }
   }
  }
 ],
 "metadata":{
  "kernelspec":{
   "display_name":"Python",
   "language":"python",
   "name":"python"
  },
  "datalore":{
   "version":1,
   "computation_mode":"JUPYTER",
   "package_manager":"pip",
   "base_environment":"default",
   "packages":[
    
   ]
  }
 },
 "nbformat":4,
 "nbformat_minor":4
}