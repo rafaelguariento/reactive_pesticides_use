{
 "cells":[
  {
   "cell_type":"markdown",
   "source":[
    "# Code for reproducing the results in:\n",
    "\n",
    "## Turning Ecology Against Pesticide Resistance: Exploiting Competition in Pest Populations Through Pesticide Use \n",
    "\n",
    "by Guariento et al."
   ],
   "attachments":{
    
   },
   "metadata":{
    "datalore":{
     "node_id":"xl5FXj0ojTPF7yRTgyIpQi",
     "type":"MD",
     "hide_input_from_viewers":false,
     "hide_output_from_viewers":false
    }
   }
  },
  {
   "cell_type":"code",
   "source":[
    "import pandas as pd\n",
    "import numpy as np\n",
    "import scipy.integrate\n",
    "import os\n",
    "import matplotlib.pyplot as plt\n",
    "import seaborn as sns"
   ],
   "execution_count":null,
   "outputs":[
    
   ],
   "metadata":{
    "datalore":{
     "node_id":"jCpBxCf2xUSv8TzGItVfRr",
     "type":"CODE",
     "hide_input_from_viewers":false,
     "hide_output_from_viewers":false
    }
   }
  },
  {
   "cell_type":"code",
   "source":[
    "# --------------------------- Model -----------------------------------------------------\n",
    "\n",
    "def lotka_volterra(t, uVec, paramDic):\n",
    "    s, r, v, c = uVec\n",
    "    dudtVec = np.zeros_like(uVec) \n",
    "    dudtVec[0] = paramDic['rS']*(1-paramDic['dD']*c)*(1 - (s + paramDic['cRS'] * r)\/paramDic['k']) * s - paramDic['dS']*s\n",
    "    dudtVec[1] = paramDic['rR']*(1 - (r + paramDic['cSR'] * s)\/paramDic['k'])*r - paramDic['dR']*r\n",
    "    dudtVec[2] = paramDic['theta']*(dudtVec[0] + dudtVec[1])\n",
    "    dudtVec[3] = 0\n",
    "    return (dudtVec)"
   ],
   "execution_count":null,
   "outputs":[
    
   ],
   "metadata":{
    "datalore":{
     "node_id":"ZSoer70ysDwmrwIqoUCVuc",
     "type":"CODE",
     "hide_input_from_viewers":false,
     "hide_output_from_viewers":false
    }
   }
  },
  {
   "cell_type":"code",
   "source":[
    "# --------------------------- Simulation -----------------------------------------------------\n",
    "\n",
    "def Simulate_pestice_max(initialStateVec,paramDic,modelFun,t_end=None,t_span=None,t_eval=None,nTimePts=100,**kwargs):\n",
    "    t_span = t_span if t_span is not None else (0, t_end)\n",
    "    t_eval = t_eval if t_eval is not None else np.linspace(t_span[0],t_span[1],nTimePts)\n",
    "    solObj = scipy.integrate.solve_ivp(lambda t, uVec: modelFun(t,uVec,paramDic), y0=initialStateVec,\n",
    "                                       t_span=t_span,t_eval=t_eval,**kwargs)\n",
    "    return pd.DataFrame({\"Time\": solObj.t, \"S\": solObj.y[0, :], \"R\": solObj.y[1, :],\n",
    "                              \"V\":solObj.y[2,:], \"D\": solObj.y[3, :]})\n",
    "\n",
    "def Simulate_non_int_fixed_target(initialStateVec,paramDic,modelFun,\n",
    "                               rpuThreshold=0.5,intervalLength=3,refSize=None,t_end=None,t_span=None,t_eval=None,nTimePts=100,**kwargs):\n",
    "    t_span = t_span if t_span is not None else (0, t_end)\n",
    "    t_eval = t_eval if t_eval is not None else np.linspace(0,t_end,nTimePts)\n",
    "    resultsDFList = []\n",
    "    currInterval = [t_span[0],t_span[0]+intervalLength]\n",
    "    refSize = initialStateVec[2] if refSize is None else refSize\n",
    "    dose = initialStateVec[-1] \n",
    "    currCycleId = 0\n",
    "    while currInterval[1] <= t_end: \n",
    "        # Simulate\n",
    "        resultsDf = Simulate_pestice_max(initialStateVec,modelFun=modelFun,\n",
    "                                         paramDic=paramDic,\n",
    "                                         t_span=(currInterval[0], currInterval[1]),\n",
    "                                         t_eval=np.linspace(currInterval[0], currInterval[1],1200)) #tEnd\n",
    "        resultsDf['CycleId'] = currCycleId\n",
    "        resultsDFList.append(resultsDf)\n",
    "\n",
    "        # Update dose\n",
    "        if resultsDf.V.iat[-1] > refSize:\n",
    "            currCycleId += (dose==0)\n",
    "            dose = paramDic['DMax']\n",
    "        elif resultsDf.V.iat[-1] < (1-rpuThreshold)*refSize:\n",
    "            dose = 0\n",
    "        else:\n",
    "            dose = (dose > 0)*paramDic['DMax']\n",
    "        initialStateVec = [resultsDf.S.iat[-1], resultsDf.R.iat[-1], resultsDf.V.iat[-1], dose]\n",
    "\n",
    "        # Update interval\n",
    "        currInterval = [x+intervalLength for x in currInterval]\n",
    "    resultsDf = pd.concat(resultsDFList)\n",
    "    # Interpolate to the desired time grid\n",
    "    trimmedResultsDic = {'Time':t_eval}\n",
    "    for variable in ['S','R','V','D','CycleId']:\n",
    "        f =  scipy.interpolate.interp1d(resultsDf.Time,resultsDf[variable],fill_value=\"extrapolate\")\n",
    "        trimmedResultsDic = {**trimmedResultsDic,variable:f(t_eval)}\n",
    "    return pd.DataFrame(data=trimmedResultsDic)\n",
    "# Format plot\n",
    "sns.set(style=\"white\",\n",
    "        font_scale=1.5,\n",
    "        font=\"Serif\",\n",
    "        rc={'figure.figsize':(12,6)})"
   ],
   "execution_count":null,
   "outputs":[
    
   ],
   "metadata":{
    "datalore":{
     "node_id":"aYEkP0cDE2KideDSZUmvWf",
     "type":"CODE",
     "hide_input_from_viewers":false,
     "hide_output_from_viewers":false
    }
   }
  },
  {
   "cell_type":"code",
   "source":[
    "# --------------------------- Parameter Functions -----------------------------------------------------\n",
    "\n",
    "def GenerateParameterDic(initialSize,rFrac,cost,turnover,paramDic):\n",
    "   \n",
    "       # Generate ICS\n",
    "    initialStateVec = [initialSize * (1 - rFrac), initialSize * rFrac, 0, paramDic['DMax']]\n",
    "    initialStateVec[2] = paramDic['theta'] * (initialStateVec[0] + initialStateVec[1])\n",
    "\n",
    "    # Generate params\n",
    "    paramDic = paramDic.copy()\n",
    "    paramDic['rR'] = (1-cost)*paramDic['rS']\n",
    "    paramDic['dR'] = turnover*paramDic['rS']\n",
    "    paramDic['dS'] = turnover*paramDic['rS']\n",
    "    return initialStateVec,paramDic\n",
    "\n",
    "# Define the parameters\n",
    "paramDic = {\"rS\":.025, \"rR\":.025, \"cRS\":1., \"cSR\":1.,\"dD\":1.0, \n",
    "            \"k\":1., \"D\":0, \"theta\":1, 'DMax':1.2}\n",
    "paramDic['dR'] = 0.2*paramDic['rR']\n",
    "paramDic['dS'] = 0.2*paramDic['rS']\n",
    "nTimePts = 100\n",
    "dt = 1.\n",
    "intervalLength = 1\n",
    "rFracPalette = {0.001:sns.xkcd_rgb['coral'],0.01:sns.xkcd_rgb['scarlet'],0.1:sns.xkcd_rgb['dark red']}"
   ],
   "execution_count":null,
   "outputs":[
    
   ],
   "metadata":{
    "datalore":{
     "node_id":"7DERX4322FAtiRw2p8REiP",
     "type":"CODE",
     "hide_input_from_viewers":false,
     "hide_output_from_viewers":false
    }
   }
  },
  {
   "cell_type":"code",
   "source":[
    "def PlotDifferentRPUThresholds(model,initialPopSize,sFrac,tEnd=1200,rpuThresholdList=[.5,1.],\n",
    "                              paramDic=paramDic, pesticide_dose = True,\n",
    "                              nTimePts = 100, intervalLength = 1,\n",
    "                              pesticideBarPosition = 1., pesticideBarWidth=.1,\n",
    "                              ylim=1.4,y2lim=1.4,\n",
    "                              lineStyleDic = {'1.0':'-','0.75':':','0.5':'--','0.25':'-.'},\n",
    "                              colorDic = {'1.0':(1,148\/255,9\/255),'0.75':sns.xkcd_rgb['aqua'],'0.5':'#094486','0.25':sns.xkcd_rgb['purple']},\n",
    "                              figsize=(12,8),ax=None,**kwargs):\n",
    "    if ax is None: fig, ax = plt.subplots(1,1,sharex=True,sharey=True,figsize=figsize)\n",
    "    ax2 = ax.twinx()  # instantiate a second axes that shares the same x-axis\n",
    "    initialStateVec = [initialPopSize*sFrac,initialPopSize*(1-sFrac),0,paramDic['DMax']]\n",
    "    initialStateVec[2] = paramDic['theta']*(initialStateVec[0] + initialStateVec[1])\n",
    "\n",
    "    # Simulate AT\n",
    "    for i,rpuThreshold in enumerate(rpuThresholdList):\n",
    "        resultsDf = Simulate_non_int_fixed_target(modelFun=model,\n",
    "                                               initialStateVec=initialStateVec,\n",
    "                                               rpuThreshold=rpuThreshold,intervalLength=intervalLength,\n",
    "                                               paramDic=paramDic,\n",
    "                                               t_end=tEnd, t_eval=np.linspace(0,tEnd,nTimePts))\n",
    "        ttp_AT = resultsDf.Time[resultsDf.V > 1.2*initialPopSize].min()\n",
    "        ax.plot(resultsDf.Time,\n",
    "                resultsDf.V,\n",
    "                lw=kwargs.get('linewidthA', 4), color=colorDic[str(rpuThreshold)],\n",
    "                linestyle=lineStyleDic[str(rpuThreshold)], marker=kwargs.get('markerA', None),\n",
    "                label=kwargs.get('labelA', 'Model Prediction'))\n",
    "        \n",
    "        \n",
    "        \n",
    "        if pesticide_dose is True:\n",
    "            currPesticideBarPosition = pesticideBarPosition+i*pesticideBarWidth\n",
    "            pesticideConcentrationVec = resultsDf.D.values*(pesticideBarWidth-1e-3)+currPesticideBarPosition\n",
    "            ax2.fill_between(resultsDf.Time,\n",
    "                         currPesticideBarPosition, pesticideConcentrationVec, color=colorDic[str(rpuThreshold)],\n",
    "                         alpha=1., label=\"Pesticide Concentration\")\n",
    "        ax.vlines(x=ttp_AT,ymin=0,ymax=1.2,color=colorDic[str(rpuThreshold)],\n",
    "                  linestyles=lineStyleDic[str(rpuThreshold)],linewidth=3)\n",
    "\n",
    "    # Format the plot\n",
    "    ax.set_ylim([0,ylim])\n",
    "    ax2.set_ylim([0, y2lim])\n",
    "    ax2.axis(\"off\")\n",
    "    ax.tick_params(labelsize=24)\n",
    "    if kwargs.get('savefigB', False):\n",
    "        plt.savefig(kwargs.get('outName', 'modelPrediction.png'), orientation='portrait')  "
   ],
   "execution_count":null,
   "outputs":[
    
   ],
   "metadata":{
    "datalore":{
     "node_id":"Zuepf9sGqMxwXCLbgMqCiN",
     "type":"CODE",
     "hide_input_from_viewers":false,
     "hide_output_from_viewers":false
    }
   }
  },
  {
   "cell_type":"code",
   "source":[
    "# Make directory for figures\n",
    "if not os.path.isdir(\".\/figures\/\"):\n",
    "    os.mkdir(\".\/figures\/\""
   ],
   "execution_count":null,
   "outputs":[
    
   ],
   "metadata":{
    "datalore":{
     "node_id":"5lKxOr4skjp6bzyMb5sEEp",
     "type":"CODE",
     "hide_input_from_viewers":false,
     "hide_output_from_viewers":false
    }
   }
  },
  {
   "cell_type":"code",
   "source":[
    "tEnd = 1200\n",
    "\n",
    "deathRate = 0.2\n",
    "cost = 0\n",
    "rpuThresholdList = [1.,0.5, 0.25]\n",
    "currParamDic = paramDic.copy()\n",
    "currParamDic['dS'] = deathRate*currParamDic['rS']\n",
    "currParamDic['dR'] = deathRate*currParamDic['rR']\n",
    "currParamDic['rR'] *= (1-cost)\n",
    "\n",
    "for i,initialSize in enumerate([x for x in [0.3,0.45,.60]]):\n",
    "    for j,sFrac in enumerate([0.999]):\n",
    "        PlotDifferentRPUThresholds(model=lotka_volterra,initialPopSize=initialSize,sFrac=sFrac,ylim=1.2, pesticide_dose = False,\n",
    "                          rpuThresholdList=rpuThresholdList,paramDic=currParamDic,\n",
    "                          savefigB=True,outName=\"figures\/timeSeriesPlot_noTurnover_noCost_iS_%1.2f_sFrac_%1.2f.pdf\"%(initialSize,sFrac))"
   ],
   "execution_count":null,
   "outputs":[
    
   ],
   "metadata":{
    "datalore":{
     "node_id":"HiuUdfzPiZ7ALdP9GFZac9",
     "type":"CODE",
     "hide_input_from_viewers":false,
     "hide_output_from_viewers":false
    }
   }
  },
  {
   "cell_type":"code",
   "source":[
    "# --------------------------- Ploting comparison -----------------------------------------------------\n",
    "\n",
    "\n",
    "def PlotSimulation(dataDf,pesticideConcentrationVec=None,sizeVar=\"V\",plotSizeB=False,plotPopsB=True,\n",
    "                       pesticideBarPosition=0.85,plotLegendB=True,plotpesticideBarB=True,\n",
    "                       yLimVec=[0,1.5], y2lim=1, ax=None, figsize=(10,8), titleStr=\"\", **kwargs):\n",
    "    if ax is None:\n",
    "        fig = plt.figure(figsize=figsize)\n",
    "        ax = fig.add_subplot(111)\n",
    "    lnslist = []\n",
    "    # Plot the size the we will see on the images\n",
    "    if plotSizeB:\n",
    "\n",
    "        propV = dataDf.V_max.values\n",
    "\n",
    "        lnslist += ax.plot(dataDf.Time,\n",
    "                            dataDf[sizeVar],\n",
    "                            lw=kwargs.get('linewidthA', 4), color=kwargs.get('colorA', 'b'),\n",
    "                            linestyle=kwargs.get('linestyleA', '-'), marker=kwargs.get('markerA', None),\n",
    "                            label=kwargs.get('labelA', 'Model Prediction'))\n",
    "\n",
    "        lnslist += ax.plot(dataDf.Time,\n",
    "                            (propV) * dataDf[\"V_max\"],\n",
    "                            lw=kwargs.get('linewidth', 4), linestyle=kwargs.get('linestyleV_max', '--'),\n",
    "                            color=kwargs.get('colorV_max', '#dbba16'),\n",
    "                            label='V_max')                            \n",
    "\n",
    "    # Plot the individual populations\n",
    "    if plotPopsB:\n",
    "        propS = dataDf.S.values \/ (dataDf.S.values + dataDf.R.values)\n",
    "        \n",
    "        lnslist += ax.plot(dataDf.Time,\n",
    "                            propS * dataDf[sizeVar],\n",
    "                            lw=kwargs.get('linewidth', 4), linestyle=kwargs.get('linestyleS', '--'),\n",
    "                            color=kwargs.get('colorS', \"#0F4C13\"),\n",
    "                            label='S')\n",
    "        lnslist += ax.plot(dataDf.Time,\n",
    "                            (1 - propS) * dataDf[sizeVar],\n",
    "                            lw=kwargs.get('linewidth', 4), linestyle=kwargs.get('linestyleR', '--'),\n",
    "                            color=kwargs.get('colorR', '#710303'),\n",
    "                            label='R')\n",
    "                    \n",
    "\n",
    "\n",
    "    # Plot the pesticide concentration\n",
    "    if plotpesticideBarB:\n",
    "        ax2 = ax.twinx()  # instantiate a second axes that shares the same x-axis\n",
    "        pesticideConcentrationVec = pesticideConcentrationVec\/(1-pesticideBarPosition)+pesticideBarPosition\n",
    "        ax2.fill_between(dataDf.Time,\n",
    "                         pesticideBarPosition, pesticideConcentrationVec, color=\"gray\",\n",
    "                         alpha=1., label=\"Pesticide Concentration\")\n",
    "        ax2.set_ylim([0, y2lim])\n",
    "        ax2.axis(\"off\")\n",
    "    # Format the plot\n",
    "    plt.xlim([0, kwargs.get('xlim', 1.1*dataDf.Time.max())])\n",
    "    ax.set_ylim(yLimVec)\n",
    "    ax.tick_params(labelsize=24)\n",
    "    plt.title(titleStr)\n",
    "    if plotLegendB:\n",
    "        labsList = [l.get_label() for l in lnslist]\n",
    "        plt.legend(lnslist, labsList, loc=kwargs.get('legendLoc', \"upper right\"))\n",
    "    plt.tight_layout()\n",
    "    if kwargs.get('savefigB', False):\n",
    "        plt.savefig(kwargs.get('outName', 'modelPrediction.png'), orientation='portrait', format='png')\n",
    "\n",
    "def GenerateATComparisonPlot(initialTumourSize, rFrac, paramDic,\n",
    "                             modelFun = lotka_volterra,\n",
    "                             normaliseToStartingValue = False,\n",
    "                             t_end=1500, relToPopEq=False,\n",
    "                             decorateX=True, decorateY=False,\n",
    "                             intervalLength=1., nTimePts=100, rpuThreshold=0.5,\n",
    "                             printDifferenceInTTP=False, markInitialSize=False,\n",
    "                             ylim=1.3, figsize=(8, 5),\n",
    "                             colorA='#094486',  \n",
    "                             ax=None,\n",
    "                             outName=None):\n",
    "    if relToPopEq: initialTumourSize *= (1 - paramDic['dS'] \/ paramDic['rS'])\n",
    "    initialStateVec, _ = GenerateParameterDic(initialSize=initialTumourSize, rFrac=rFrac, cost=0, turnover=0,\n",
    "                                              paramDic=paramDic)\n",
    "\n",
    "    # Simulate\n",
    "    resultsDf_max = Simulate_non_int_fixed_target(modelFun=modelFun,\n",
    "                                           initialStateVec=initialStateVec,\n",
    "                                           rpuThreshold=1., intervalLength=t_end,\n",
    "                                           paramDic=paramDic,\n",
    "                                           t_end=t_end, t_eval=np.linspace(0, t_end, nTimePts))\n",
    "    ttp_ct = resultsDf_max.Time[resultsDf_max.V > 1.2 * initialTumourSize].min()\n",
    "\n",
    "    resultsDf = Simulate_non_int_fixed_target(modelFun=modelFun,\n",
    "                                           initialStateVec=initialStateVec,\n",
    "                                           rpuThreshold=rpuThreshold, intervalLength=intervalLength,\n",
    "                                           paramDic=paramDic,\n",
    "                                           t_end=t_end, t_eval=np.linspace(0, t_end, nTimePts))\n",
    "    ttp_AT = resultsDf.Time[resultsDf.V > 1.2 * initialTumourSize].min()\n",
    "\n",
    "    # Plot the results\n",
    "    extracted_col = resultsDf_max[\"V\"]\n",
    "    \n",
    "\n",
    "    if ax is None: fig, ax = plt.subplots(1, 1, sharex=True, sharey=True, figsize=figsize)\n",
    "    if normaliseToStartingValue:\n",
    "        resultsDf['V'] \/= resultsDf['V'].iloc[0]\n",
    "        resultsDf['S'] \/= resultsDf['V'].iloc[0]\n",
    "        resultsDf['R'] \/= resultsDf['V'].iloc[0]\n",
    "    PlotSimulation(resultsDf, sizeVar=\"V\", pesticideConcentrationVec=resultsDf.D, xlim=t_end,\n",
    "                   linewidthA=4, linewidth=4,\n",
    "                   yLimVec=[0, 1.2], y2lim=1, plotLegendB=False, decoratey2=False,\n",
    "                   labelA='Volume', legendLoc='upper left',\n",
    "                   colorR='#710303', colorS=\"#0F4C13\", linestyleR='-.',\n",
    "                   colorA=colorA, ax=ax)\n",
    "    ax.vlines(x=ttp_ct, ymin=0, ymax=ylim, colors=[(1, 148 \/ 255, 9 \/ 255)], linestyles='-', linewidth=3)\n",
    "    ax.vlines(x=ttp_AT, ymin=0, ymax=ylim, colors=sns.xkcd_rgb['blue'], linestyles='--', linewidth=3) # change color rt_threshold\n",
    "    if markInitialSize: ax.hlines(xmin=0, xmax=t_end, y=initialTumourSize, linestyles='--', linewidth=3)\n",
    "    ax.set_ylim(0, ylim)\n",
    "    ax.set_xlabel(\"\")\n",
    "    ax.set_ylabel(\"\")\n",
    "    if not decorateX:\n",
    "        ax.set_xticklabels(\"\")\n",
    "    if not decorateY:\n",
    "        ax.set_yticklabels(\"\")\n",
    "    if outName is not None: plt.savefig(outName)\n",
    "    if printDifferenceInTTP:\n",
    "        gainInTTP = ttp_AT - ttp_ct\n",
    "        relGainInTTP = (ttp_AT - ttp_ct) \/ ttp_ct * 100\n",
    "        print(\"TTP_CT: %1.2f; TTP_AT: %1.2f\" % (ttp_ct, ttp_AT))\n",
    "        print(\"Relative gain: %1.2f%%; Absolute Gain: %1.2fd\" % (relGainInTTP, gainInTTP))"
   ],
   "execution_count":null,
   "outputs":[
    
   ],
   "metadata":{
    "datalore":{
     "node_id":"4Z0fvbas9P6T7i9XaPewga",
     "type":"CODE",
     "hide_input_from_viewers":false,
     "hide_output_from_viewers":false
    }
   }
  },
  {
   "cell_type":"code",
   "source":[
    "tEnd = 1200\n",
    "deathRate = 0.2\n",
    "cost = 0\n",
    "\n",
    "currParamDic = paramDic.copy()\n",
    "currParamDic['dS'] = deathRate*currParamDic['rS']\n",
    "currParamDic['dR'] = deathRate*currParamDic['rR']\n",
    "currParamDic['rR'] *= (1-cost)\n",
    "\n",
    "\n",
    "for i,initialSize in enumerate([x for x in [0.3,0.45,.60]]):\n",
    "    for j,rFrac in enumerate([0.001]):\n",
    "       \n",
    "        GenerateATComparisonPlot(initialTumourSize=initialSize,rFrac=rFrac, rpuThreshold = 0.50,\n",
    "                                 paramDic=currParamDic,t_end=tEnd,\n",
    "                                 decorateX=j==0,decorateY=True,ylim=1.1,\n",
    "                                 outName=\"figures\/timeSeriesPlot_noTurnover_noCost_iS_%1.2f_rFrac_%1.2f.pdf\"%(initialSize,rFrac))"
   ],
   "execution_count":null,
   "outputs":[
    
   ],
   "metadata":{
    "datalore":{
     "node_id":"ONoQ6CoV2O3aCRSqCkS91q",
     "type":"CODE",
     "hide_input_from_viewers":false,
     "hide_output_from_viewers":false
    }
   }
  }
 ],
 "metadata":{
  "kernelspec":{
   "display_name":"Python",
   "language":"python",
   "name":"python"
  },
  "datalore":{
   "version":1,
   "computation_mode":"JUPYTER",
   "package_manager":"pip",
   "base_environment":"default",
   "packages":[
    
   ]
  }
 },
 "nbformat":4,
 "nbformat_minor":4
}
